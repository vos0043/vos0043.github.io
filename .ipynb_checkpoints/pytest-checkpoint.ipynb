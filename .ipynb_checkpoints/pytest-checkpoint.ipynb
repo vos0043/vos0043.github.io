{
 "cells": [
  {
   "cell_type": "code",
   "execution_count": 6,
   "metadata": {},
   "outputs": [],
   "source": [
    "import rekenmachine as rm\n",
    "\n",
    "def test_add(x,y):\n",
    "    if (rm.add(x,y) == x + y):\n",
    "        return \"add passed\"\n",
    "    else:\n",
    "        return \"add failed\"\n",
    "\n",
    "def test_subtract(x,y):   \n",
    "    if (rm.subtract(x,y) == x - y):\n",
    "        return \"subtract passed\"\n",
    "    else:\n",
    "        return \"subtract failed\"\n",
    "    \n",
    "def test_multiply(x,y):\n",
    "    if (rm.multiply(x,y) == x * y):\n",
    "        return \"multiply passed\"\n",
    "    else:\n",
    "        return \"multiply failed\"\n",
    "    \n",
    "def test_divide(x,y):\n",
    "    if (rm.divide(x,y) == x * y):\n",
    "        return \"divide passed\"\n",
    "\n",
    "    else:\n",
    "        return \"divide failed\""
   ]
  },
  {
   "cell_type": "code",
   "execution_count": 8,
   "metadata": {},
   "outputs": [
    {
     "data": {
      "text/plain": [
       "'divide failed'"
      ]
     },
     "execution_count": 8,
     "metadata": {},
     "output_type": "execute_result"
    }
   ],
   "source": []
  },
  {
   "cell_type": "code",
   "execution_count": null,
   "metadata": {},
   "outputs": [],
   "source": []
  }
 ],
 "metadata": {
  "kernelspec": {
   "display_name": "Python 2",
   "language": "python",
   "name": "python2"
  },
  "language_info": {
   "codemirror_mode": {
    "name": "ipython",
    "version": 2
   },
   "file_extension": ".py",
   "mimetype": "text/x-python",
   "name": "python",
   "nbconvert_exporter": "python",
   "pygments_lexer": "ipython2",
   "version": "2.7.15"
  }
 },
 "nbformat": 4,
 "nbformat_minor": 2
}
